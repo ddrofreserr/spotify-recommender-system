{
 "cells": [
  {
   "cell_type": "markdown",
   "id": "9f94313a",
   "metadata": {},
   "source": [
    "This notebook builds the first version of a Spotify recommender system using Spotify Tracks Dataset from [Kaggle](https://www.kaggle.com/datasets/maharshipandya/-spotify-tracks-dataset) "
   ]
  }
 ],
 "metadata": {
  "language_info": {
   "name": "python"
  }
 },
 "nbformat": 4,
 "nbformat_minor": 5
}
